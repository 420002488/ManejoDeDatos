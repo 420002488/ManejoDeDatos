{
 "cells": [
  {
   "cell_type": "markdown",
   "metadata": {},
   "source": [
    "#### Clase Paciente"
   ]
  },
  {
   "cell_type": "code",
   "execution_count": 1,
   "metadata": {},
   "outputs": [],
   "source": [
    "import mysql.connector\n",
    "import pandas as pd\n",
    "import numpy as np\n",
    "from numpy import *\n",
    "import matplotlib.pyplot as plt\n",
    "\n",
    "\n",
    "class Paciente():\n",
    "    \n",
    "    def __init__(self, numero_paciente, id, sexo, edad, entidad_res, resultado_antigeno, fecha_def):\n",
    "        self.numero_paciente = numero_paciente\n",
    "        self.id = id\n",
    "        self.sexo = sexo\n",
    "        self.edad = edad\n",
    "        self.entidad_res = entidad_res\n",
    "        self.resultado_antigeno = resultado_antigeno\n",
    "        self.fecha_def = fecha_def\n",
    "    \n",
    "    def __str__(self):\n",
    "        a = '\\nNumero de paciente: {}\\nId: {}\\nSexo: {}\\nEdad: {}\\nEntidad de residencia: {}\\nResultado antigeno: {}\\nFecha defuncion: {}\\n'\n",
    "        return a.format(self.numero_paciente, self.id, self.sexo, self.edad, self.entidad_res, self.resultado_antigeno, self.fecha_def)\n",
    "    \n",
    "    \n",
    "        \n",
    "    \n",
    "    "
   ]
  },
  {
   "cell_type": "markdown",
   "metadata": {},
   "source": [
    "### Funciones para graficar"
   ]
  },
  {
   "cell_type": "code",
   "execution_count": 2,
   "metadata": {},
   "outputs": [],
   "source": [
    "#-----------------------FUNCIONES PARA GRAFICAR--------------\n",
    "\n",
    "def Graficar(x, y, nombrex, nombrey, etiqueta,colr):\n",
    "    \n",
    "    edad = x\n",
    "    \n",
    "    x = np.arange(len(edad)) #posicion de cata etiqueta en el eje x\n",
    "    width = 0.35 #Ancho de las barras\n",
    "\n",
    "    fig, ax = plt.subplots()\n",
    "    \n",
    "    rect = ax.bar(x, y, width, label= etiqueta, color=colr)\n",
    "    \n",
    "    ax.set_ylabel(nombrey) #Nombre a eje y\n",
    "    ax.set_title(nombrex) #Nombre a eje x\n",
    "    ax.set_xticks(x)\n",
    "    ax.set_xticklabels(edad) \n",
    "\n",
    "    ax.legend() #Muestra con colores a que pertenece cada dato\n",
    "\n",
    "    for rect in rect: #Añade etiquetas de manera individual a cada barra\n",
    "        height = rect.get_height()\n",
    "        ax.annotate('{}'.format(height),\n",
    "                    xy=(rect.get_x() + rect.get_width() / 2, height),\n",
    "                    xytext=(0, 0.250),  # 0.250 points verticales de las etiquetas\n",
    "                    textcoords=\"offset points\",\n",
    "                    ha='center', va='bottom')\n",
    "    \n",
    "    fig.tight_layout()\n",
    "    plt.show()\n",
    "    \n",
    "# ------------------------------------------------------------------\n",
    "\n",
    "def Graficar2(x, y, nombrex, nombrey, etiqueta,colr):\n",
    "    \n",
    "    etiquetas = x\n",
    "    \n",
    "    x = np.arange(len(x)) #posicion de cata etiqueta en el eje x\n",
    "    width = 0.35 #Ancho de las barras\n",
    "\n",
    "    fig, ax = plt.subplots()\n",
    "    \n",
    "    rect = ax.bar(x, y, width, label= etiqueta, color=colr)\n",
    "    \n",
    "    ax.set_ylabel(nombrey) #Nombre a eje y\n",
    "    ax.set_title(nombrex) #Nombre a eje x\n",
    "    ax.set_xticks(x)\n",
    "    ax.set_xticklabels(x) \n",
    "\n",
    "    ax.legend() #Muestra con colores a que pertenece cada dato\n",
    "    \n",
    "    ax.set_xticklabels(etiquetas, rotation=90) #Añadimos las etiquetas del eje x y el angulo de rotacion\n",
    "\n",
    "    for rect in rect: #Añade etiquetas de manera individual a cada barra\n",
    "        height = rect.get_height()\n",
    "        ax.annotate('{}'.format(height),\n",
    "                    xy=(rect.get_x() + rect.get_width() / 2, height),\n",
    "                    xytext=(0, 0.250),  # 0.250 points verticales de las etiquetas\n",
    "                    textcoords=\"offset points\",\n",
    "                    ha='center', va='bottom')\n",
    "    \n",
    "    fig.tight_layout()\n",
    "    fig.set_size_inches(10, 10) #Modificamos el tamaño de la gráfica\n",
    "    plt.show()\n"
   ]
  },
  {
   "cell_type": "markdown",
   "metadata": {},
   "source": [
    "### Conexión con sql"
   ]
  },
  {
   "cell_type": "code",
   "execution_count": 3,
   "metadata": {},
   "outputs": [],
   "source": [
    "dbConnect = {\n",
    "    \n",
    "        'host' : 'localhost',\n",
    "        'user' : 'root',\n",
    "        'password' : 'a28r10m95',\n",
    "        'database' : 'basecovid'\n",
    "}\n",
    "\n",
    "conexion = mysql.connector.connect(**dbConnect)\n",
    "\n",
    "cursor = conexion.cursor()  #Nos permite enviar y recibir datos al servidor\n"
   ]
  },
  {
   "cell_type": "markdown",
   "metadata": {},
   "source": [
    "### Consulta a SQL"
   ]
  },
  {
   "cell_type": "code",
   "execution_count": 70,
   "metadata": {},
   "outputs": [],
   "source": [
    "# HACEMOS CONSULTA A SQL DE TODOS LOS DATOS\n",
    "\n",
    "sql = \"select * from enero\"\n",
    "\n",
    "cursor.execute(sql)\n",
    "\n",
    "data = cursor.fetchall()   #Almacena los datos en data\n",
    "\n",
    "\n",
    "#HACEMOS CONSULTA A SQL DEL NOMBRE DE LAS COLUMNAS\n",
    "\n",
    "sql = \"SHOW COLUMNS FROM enero\"\n",
    "\n",
    "cursor.execute(sql)\n",
    "\n",
    "nombre_columnas = cursor.fetchall()   #Almacena los datos en nombre_columnas\n",
    "\n",
    "#for a in nombre_columnas:\n",
    "#    print(a[0])\n",
    "   \n",
    "columnas = []\n",
    "for nombre in nombre_columnas:\n",
    "    columnas.append(nombre[0])\n",
    "    \n",
    "    \n",
    "#CREAMOS UN DATAFRAME CON EL NOMBRE DE LAS COLUMNAS Y LOS DATOS \n",
    "\n",
    "data = pd.DataFrame(data, columns = columnas)\n"
   ]
  },
  {
   "cell_type": "markdown",
   "metadata": {},
   "source": [
    "### Buscar  paciente"
   ]
  },
  {
   "cell_type": "code",
   "execution_count": 75,
   "metadata": {},
   "outputs": [
    {
     "name": "stdout",
     "output_type": "stream",
     "text": [
      "Ingrese el número de paciente que desea buscar: 994\n",
      "\n",
      "Numero de paciente: 996\n",
      "Id: 06b958\n",
      "Sexo: Masculino\n",
      "Edad: 32\n",
      "Entidad de residencia: 9\n",
      "Resultado antigeno: No aplica (caso sin muestra)\n",
      "Fecha defuncion: 31/03/2020\n",
      "\n"
     ]
    }
   ],
   "source": [
    "# Buscar un paciente \n",
    "\n",
    "while True:\n",
    "    \n",
    "    try:\n",
    "        opc = int(input('Ingrese el número de paciente que desea buscar: '))\n",
    "        \n",
    "        if opc <= 0 or opc>999:\n",
    "            raise Exception(\"Disculpa, solo pacientes entre 1 y 999\")\n",
    "            \n",
    "        break\n",
    "        \n",
    "    except ValueError:\n",
    "        print('Ingrese un paciente entre 1 y',len(data))\n",
    "\n",
    "        \n",
    "\n",
    "dic_sexo = {1: 'Masculino', 2: 'Femenino', 99: 'No especificado'}\n",
    "dic_ResultAntig = {1: 'Positivo a a SARS-COV2', 2: 'Negativo a SARS-COV2', 97: 'No aplica (caso sin muestra)'}\n",
    "\n",
    "paciente = data.iloc[opc-1]\n",
    "\n",
    "numero = paciente[0] \n",
    "id_paciente = paciente[2] \n",
    "sexo = dic_sexo[paciente[6]]\n",
    "edad = paciente[16]\n",
    "entidad_residencia = paciente[7]  \n",
    "resultado_antigeno = dic_ResultAntig[paciente[35]] \n",
    "\n",
    "if paciente[12] == '9999-99-99':\n",
    "    fecha_def = 'Vivo'\n",
    "else:\n",
    "    fecha_def = paciente[12]\n",
    "\n",
    "\n",
    "\n",
    "p = Paciente(numero, id_paciente, sexo, edad, entidad_residencia, resultado_antigeno, fecha_def)\n",
    "print(p)\n",
    "\n",
    "\n",
    "\n"
   ]
  },
  {
   "cell_type": "markdown",
   "metadata": {},
   "source": [
    "### Eliminar paciente"
   ]
  },
  {
   "cell_type": "code",
   "execution_count": 76,
   "metadata": {},
   "outputs": [
    {
     "name": "stdout",
     "output_type": "stream",
     "text": [
      "Ingresa que paciente deseas eliminar: 996\n",
      "\n",
      "Has eliminado al paciente:  996\n"
     ]
    }
   ],
   "source": [
    "# ELIMINAR PACIENTE   Ya elimine el resigtro 428, 661, 996, 997, 998, 999 1000\n",
    "\n",
    "opc = int(input(\"Ingresa que paciente deseas eliminar: \"))\n",
    "\n",
    "print(\"\\nHas eliminado al paciente: \", opc)\n",
    "\n",
    "\n",
    "sql = 'delete FROM enero where NUMERO =' +  str(opc)\n",
    "\n",
    "cursor.execute(sql)\n",
    "conexion.commit()"
   ]
  },
  {
   "cell_type": "markdown",
   "metadata": {},
   "source": [
    "### Conteo de casos agrupados por CLASIFICACION_FINAL\n",
    "\n",
    "\n",
    "- Clave 1 - CASO DE COVID-19 CONFIRMADO POR ASOCIACIÓN CLÍNICA EPIDEMIOLÓGICA \\\\\n",
    "- Clave 2 - CASO DE COVID-19 CONFIRMADO POR COMITÉ DE  DICTAMINACIÓN\n",
    "- Clave 3 - CASO DE SARS-COV-2  CONFIRMADO\n",
    "- Clave 4 - INVÁLIDO POR LABORATORIO\n",
    "- Clave 5 - NO REALIZADO POR LABORATORIO\n",
    "- Clave 6 - CASO SOSPECHOSO\n",
    "- Clave 7- NEGATIVO A SARS-COV-2"
   ]
  },
  {
   "cell_type": "code",
   "execution_count": 77,
   "metadata": {},
   "outputs": [
    {
     "name": "stdout",
     "output_type": "stream",
     "text": [
      "Clave 3 hay 994 de casos\n",
      "\n",
      "En total son 994 casos\n"
     ]
    },
    {
     "data": {
      "image/png": "[encoded data removed]",
      "text/plain": [
       "<Figure size 432x288 with 1 Axes>"
      ]
     },
     "metadata": {
      "needs_background": "light"
     },
     "output_type": "display_data"
    }
   ],
   "source": [
    "conteoClasFinal = []\n",
    "valores = list(pd.unique(data['CLASIFICACION_FINAL'])) #Obtenemos todos los datos sin repetir, que hay en la\n",
    "valores.sort()                                         #columna \"CLASIFICACION_FINAL\" y los ordenamos \n",
    "acum = 0\n",
    "#Con este ciclo contamos cuantas veces aparece cada clave (1-7) en \"Clasificacion final\", los guardamos en una lista\n",
    "#e imprimimos\n",
    "for i in valores:\n",
    "    cantidad_Clasificacion = data.groupby('CLASIFICACION_FINAL')['FECHA_ACTUALIZACION'].count()[i]\n",
    "    conteoClasFinal.append(cantidad_Clasificacion)\n",
    "    print(\"Clave\",i, \"hay\",cantidad_Clasificacion, \"de casos\")\n",
    "    acum = acum + cantidad_Clasificacion \n",
    "\n",
    "#print(conteoClasFinal)\n",
    "print(\"\\nEn total son\",acum,\"casos\") #Con esto verificamos que el numero de casos coincida con el numero de filas del \n",
    "                                     # archivo csv\n",
    "\n",
    "#Valores para graficar\n",
    "x = valores\n",
    "y = conteoClasFinal\n",
    "\n",
    "  \n",
    "Graficar(x ,y,'Número clave', 'Número de casos','Clasificacion_Final','cornflowerblue')\n"
   ]
  },
  {
   "cell_type": "markdown",
   "metadata": {},
   "source": [
    "### Casos en la CDMX"
   ]
  },
  {
   "cell_type": "code",
   "execution_count": 78,
   "metadata": {},
   "outputs": [
    {
     "name": "stdout",
     "output_type": "stream",
     "text": [
      "AZCAPOTZALCO - 9 personas\n",
      "COYOACÁN - 12 personas\n",
      "CUAJIMALPA DE MORELOS - 23 personas\n",
      "GUSTAVO A. MADERO - 26 personas\n",
      "IZTACALCO - 3 personas\n",
      "IZTAPALAPA - 17 personas\n",
      "LA MAGDALENA CONTRERAS - 5 personas\n",
      "MILPA ALTA - 1 personas\n",
      "ÁLVARO OBREGÓN - 20 personas\n",
      "TLÁHUAC - 4 personas\n",
      "TLALPAN - 25 personas\n",
      "XOCHIMILCO - 14 personas\n",
      "BENITO JUÁREZ - 16 personas\n",
      "CUAUHTÉMOC - 17 personas\n",
      "MIGUEL HIDALGO - 35 personas\n",
      "VENUSTIANO CARRANZA - 12 personas\n",
      "\n",
      "En total son 239 casos en la CDMX\n"
     ]
    },
    {
     "data": {
      "image/png": "[encoded data removed]",
      "text/plain": [
       "<Figure size 720x720 with 1 Axes>"
      ]
     },
     "metadata": {
      "needs_background": "light"
     },
     "output_type": "display_data"
    }
   ],
   "source": [
    "diccionario = {\n",
    "    \n",
    "    10 : 'ÁLVARO OBREGÓN',\n",
    "    2 : 'AZCAPOTZALCO',\n",
    "    14 : 'BENITO JUÁREZ',\n",
    "    3 : 'COYOACÁN',\n",
    "    4 : 'CUAJIMALPA DE MORELOS',\n",
    "    15 : 'CUAUHTÉMOC',\n",
    "    5 : 'GUSTAVO A. MADERO',\n",
    "    6 : 'IZTACALCO',\n",
    "    7 : 'IZTAPALAPA',\n",
    "    8 : 'LA MAGDALENA CONTRERAS',\n",
    "    16 : 'MIGUEL HIDALGO',\n",
    "    9 : 'MILPA ALTA',\n",
    "    999 : 'NO ESPECIFICADO',\n",
    "    11 : 'TLÁHUAC',\n",
    "    12 : 'TLALPAN',\n",
    "    17 : 'VENUSTIANO CARRANZA',\n",
    "    13 : 'XOCHIMILCO',\n",
    "    106 : 'NO ESPECIFICADO/ ERROR',\n",
    "    999 : 'NO ESPECIFICADO'\n",
    "    \n",
    "}\n",
    "\n",
    "pacientes_cdmx = data[data['ENTIDAD_RES'] == 9] \n",
    "\n",
    "a = list(pd.unique(pacientes_cdmx['MUNICIPIO_RES']))       #Obtenemos todos los datos sin repetir, que hay en la\n",
    "a.sort()                                                   #columna \"MUNICIPIO_RES\" de los pacientes de la cdmx\n",
    "\n",
    "acum = 0\n",
    "municipios = []\n",
    "\n",
    "for i in a:\n",
    "    conteo = pacientes_cdmx.groupby('MUNICIPIO_RES')['FECHA_ACTUALIZACION'].count()[i]\n",
    "    municipios.append(conteo)\n",
    "    print(diccionario[i], '-',conteo,'personas')\n",
    "    acum = acum + conteo\n",
    "    \n",
    "print(\"\\nEn total son\",acum, \"casos en la CDMX\")\n",
    "\n",
    "#datos para graficar\n",
    "    \n",
    "x = []\n",
    "\n",
    "for i in a:\n",
    "    x.append(diccionario[i])\n",
    "    \n",
    "y = municipios\n",
    "\n",
    "\n",
    "#--------------------------------------\n",
    "\n",
    "Graficar2(x, y, 'Municipios', 'Número de casos', 'MUNICIPIO_RES','mediumspringgreen')\n",
    "\n",
    "    "
   ]
  },
  {
   "cell_type": "markdown",
   "metadata": {},
   "source": [
    "###  SARS-COV-2 CONFIRMADO (por edades)"
   ]
  },
  {
   "cell_type": "code",
   "execution_count": 79,
   "metadata": {},
   "outputs": [
    {
     "name": "stdout",
     "output_type": "stream",
     "text": [
      "Casos con SARS-COV2 confirmado: \n",
      "\n",
      "0-20 años - 27\n",
      "21-40 años - 356\n",
      "41-60 años - 435\n",
      "61 - 80 años - 158\n",
      "81 años o mas - 18\n",
      "\n"
     ]
    },
    {
     "data": {
      "image/png": "[encoded data removed]",
      "text/plain": [
       "<Figure size 432x288 with 1 Axes>"
      ]
     },
     "metadata": {
      "needs_background": "light"
     },
     "output_type": "display_data"
    }
   ],
   "source": [
    "#Creams un dataframe para la clasificacion_final 3\n",
    "\n",
    "data_clasif3 = data[data['CLASIFICACION_FINAL'] == 3] \n",
    "\n",
    "\n",
    "#Creamos una lista ordenada que tenga todas las edades (sin repetir) de la columna edad\n",
    "#Edades\n",
    "\n",
    "edades3 = np.sort(pd.unique(data_clasif3['EDAD'])).tolist()   \n",
    "\n",
    "#Creamos una lista ordenada en base a la edad que tenga la frecuencia de cada edad\n",
    "\n",
    "    \n",
    "freq_edad3 = data_clasif3.groupby('EDAD')['FECHA_ACTUALIZACION'].count().tolist() #Frecuencia de edades\n",
    "                     \n",
    "\n",
    "#Con la función Intervalo obtendremos la suma de cuantas personas hay en edad de 0-20, 20-40, 40-60, 60-80 y mayores de 80\n",
    "#Edad de [0,20] , (20,40], (40, 60], (60, 80], (80, ...)\n",
    "\n",
    "def Intervalo(edad, freq):\n",
    "    \n",
    "    acum20 = 0\n",
    "    acum40= 0\n",
    "    acum60 = 0\n",
    "    acum80 = 0\n",
    "    acum100 = 0\n",
    "    \n",
    "    for i in range(len(edad)) :  \n",
    "        \n",
    "        if edad[i] >= 0 and edad[i] <= 20:\n",
    "            acum20 = acum20 + freq[i]\n",
    "            \n",
    "        if edad[i] >= 21 and edad[i] <= 40:\n",
    "            acum40 = acum40 + freq[i]\n",
    "            \n",
    "        if edad[i] >= 41 and edad[i] <= 60:\n",
    "            acum60 = acum60 + freq[i]\n",
    "            \n",
    "        if edad[i] >= 61 and edad[i] <= 80:\n",
    "            acum80 = acum80 + freq[i]\n",
    "            \n",
    "        if edad[i] >= 81:\n",
    "            acum100 = acum100 + freq[i]\n",
    "    \n",
    "    return([acum20, acum40, acum60, acum80, acum100])\n",
    "\n",
    "\n",
    "#Datos para graficar \n",
    "\n",
    "y = Intervalo(edades3, freq_edad3 )\n",
    "x = ['0-20 años','21-40 años','41-60 años','61 - 80 años', '81 años o mas']\n",
    "\n",
    "#IMPRIMOS\n",
    "\n",
    "print(\"Casos con SARS-COV2 confirmado: \\n\")\n",
    "for a in range(len(x)):\n",
    "    print(x[a], '-', y[a])\n",
    "print('')\n",
    "\n",
    "\n",
    "#GRAFICAMOS CADA CASO\n",
    " \n",
    "Graficar(x,y,'Edad', 'Número de personas', 'SARS-COV2 confirmado','limegreen')"
   ]
  },
  {
   "cell_type": "markdown",
   "metadata": {},
   "source": [
    "### Pacientes intubados"
   ]
  },
  {
   "cell_type": "code",
   "execution_count": 80,
   "metadata": {},
   "outputs": [
    {
     "name": "stdout",
     "output_type": "stream",
     "text": [
      "Entubados:\n",
      "\n",
      "Si - 92 personas\n",
      "No - 227 personas\n",
      "No aplica - 671 personas\n",
      "No especificado - 4 personas\n",
      "\n",
      "En total son 994 registros\n"
     ]
    },
    {
     "data": {
      "image/png": "[encoded data removed]",
      "text/plain": [
       "<Figure size 432x288 with 1 Axes>"
      ]
     },
     "metadata": {
      "needs_background": "light"
     },
     "output_type": "display_data"
    }
   ],
   "source": [
    "intubados = []\n",
    "a = list(pd.unique(data['INTUBADO']))       #Obtenemos todos los datos sin repetir, que hay en la\n",
    "a.sort()                                    #columna \"INTUBADO\" y los ordenamos \n",
    "    \n",
    "diccionario = {1: 'Si', 2:'No', 97:'No aplica', 98:'Se ignora', 99:'No especificado'}\n",
    "acum = 0\n",
    "\n",
    "#Con este ciclo contamos cuantas veces aparece cada valor en \"Entubado\" y lo guardamos en una lista\n",
    "#e imprimimos\n",
    "print(\"Entubados:\\n\")\n",
    "for i in a:\n",
    "    conteo = data.groupby('INTUBADO')['FECHA_ACTUALIZACION'].count()[i]\n",
    "    intubados.append(conteo)\n",
    "    print(diccionario[i],'-',conteo, \"personas\" )\n",
    "    acum = acum + conteo\n",
    "\n",
    "\n",
    "#Con esto verificamos que el numero de casos coincida con el numero de filas del archivo csv\n",
    "print(\"\\nEn total son\",acum,\"registros\") \n",
    "\n",
    "#Datos para graficar\n",
    "\n",
    "y = intubados\n",
    "x = []\n",
    "\n",
    "#Con este for, obtenemos las etiquetas existentes en la columna \"INTUBADOS\" para asi tener el eje x\n",
    "\n",
    "for i in a:\n",
    "    x.append(diccionario[i])\n",
    "    \n",
    "#print(x)\n",
    "\n",
    "Graficar(x, y, 'Etiquetas', 'Número de casos', 'Intubados','c')"
   ]
  },
  {
   "cell_type": "markdown",
   "metadata": {},
   "source": [
    "### Conteo de pacientes finados"
   ]
  },
  {
   "cell_type": "code",
   "execution_count": 81,
   "metadata": {},
   "outputs": [
    {
     "name": "stdout",
     "output_type": "stream",
     "text": [
      "Pacientes vivos: 150\n",
      "Pacientes finados: 844\n"
     ]
    },
    {
     "data": {
      "image/png": "[encoded data removed]",
      "text/plain": [
       "<Figure size 432x288 with 1 Axes>"
      ]
     },
     "metadata": {
      "needs_background": "light"
     },
     "output_type": "display_data"
    }
   ],
   "source": [
    "#Fecha de no defunción= '9999-99-99'\n",
    "\n",
    "qepd = data[data['FECHA_DEF'] == '9999-99-99']\n",
    "no_qepd = data[data['FECHA_DEF'] != '9999-99-99']\n",
    "\n",
    "x = ['Vivo','Finado']\n",
    "y = [len(no_qepd.index), len(qepd.index)]\n",
    "\n",
    "print(\"Pacientes vivos:\", y[0])\n",
    "print(\"Pacientes finados:\", y[1])\n",
    "\n",
    "#Graficamos\n",
    "\n",
    "Graficar(x, y, 'Descripción', 'Número de casos', 'Vivo/Finado','coral')"
   ]
  },
  {
   "cell_type": "markdown",
   "metadata": {},
   "source": [
    "### Conteo de pacientes por sexo"
   ]
  },
  {
   "cell_type": "code",
   "execution_count": 82,
   "metadata": {},
   "outputs": [
    {
     "name": "stdout",
     "output_type": "stream",
     "text": [
      "Hay 407 mujeres y 587 hombres\n",
      "Por lo tanto, hay más hombres que mujeres\n"
     ]
    },
    {
     "data": {
      "image/png": "[encoded data removed]",
      "text/plain": [
       "<Figure size 432x288 with 1 Axes>"
      ]
     },
     "metadata": {
      "needs_background": "light"
     },
     "output_type": "display_data"
    }
   ],
   "source": [
    "#1 = Mujer , 2 = Hombre\n",
    "\n",
    "mujeres = data[data['SEXO'] == 1]\n",
    "hombres = data[data['SEXO'] == 2]\n",
    "\n",
    "print(\"Hay\",len(mujeres.index), \"mujeres y\", len(hombres.index),\"hombres\")\n",
    "\n",
    "if len(mujeres.index)>len(hombres.index):\n",
    "    print(\"Por lo tanto, hay más mujeres que hombres\")\n",
    "else:\n",
    "    print(\"Por lo tanto, hay más hombres que mujeres\")\n",
    "    \n",
    "x = ['Mujeres','Hombres']\n",
    "y = [len(mujeres.index), len(hombres.index)]\n",
    "\n",
    "#Graficamos\n",
    "\n",
    "Graficar(x, y, 'Sexo', 'Número de casos', 'Mujeres/Hombres', 'c')"
   ]
  },
  {
   "cell_type": "markdown",
   "metadata": {},
   "source": [
    "### Cantidad de casos por sector"
   ]
  },
  {
   "cell_type": "code",
   "execution_count": 83,
   "metadata": {},
   "outputs": [
    {
     "name": "stdout",
     "output_type": "stream",
     "text": [
      "Estatal - 14 pacientes\n",
      "IMSS - 311 pacientes\n",
      "IMSS BIENESTAR - 1 pacientes\n",
      "ISSSTE - 53 pacientes\n",
      "Municipal - 1 pacientes\n",
      "Pemex - 3 pacientes\n",
      "Privada - 131 pacientes\n",
      "Sedena - 4 pacientes\n",
      "Semar - 4 pacientes\n",
      "SSA - 459 pacientes\n",
      "UNIVERSITARIO - 13 pacientes\n",
      "\n",
      "En total son 994 casos\n"
     ]
    },
    {
     "data": {
      "image/png": "[encoded data removed]",
      "text/plain": [
       "<Figure size 720x720 with 1 Axes>"
      ]
     },
     "metadata": {
      "needs_background": "light"
     },
     "output_type": "display_data"
    }
   ],
   "source": [
    "diccionario = {\n",
    "    \n",
    "    1 : 'Cruz Roja',\n",
    "    2 : 'DIF',\n",
    "    3 : 'Estatal',\n",
    "    4 : 'IMSS',\n",
    "    5 : 'IMSS BIENESTAR',\n",
    "    6 : 'ISSSTE',\n",
    "    7 : 'Municipal',\n",
    "    8 : 'Pemex',\n",
    "    9 : 'Privada',\n",
    "    10 : 'Sedena',\n",
    "    11 : 'Semar',\n",
    "    12 : 'SSA',\n",
    "    13 : 'UNIVERSITARIO',\n",
    "    99 : 'No especificado',\n",
    "    \n",
    "}\n",
    "\n",
    "valores = list(pd.unique(data['SECTOR'])) #Obtenemos una lista sin repetición de los datos de: SECTOR\n",
    "valores.sort()                            #Ordenamos la lista\n",
    "\n",
    "acum = 0\n",
    "conteo_sector = []\n",
    "\n",
    "for i in valores:\n",
    "    conteo = data.groupby('SECTOR')['FECHA_ACTUALIZACION'].count()[i]\n",
    "    conteo_sector.append(conteo)\n",
    "    print(diccionario[i],\"-\", conteo, \"pacientes\")\n",
    "    acum = acum + conteo\n",
    "    \n",
    "print(\"\\nEn total son\",acum,\"casos\") #Con esto verificamos que el numero de casos coincida con el numero de filas del \n",
    "                                     # archivo csv\n",
    "\n",
    "    \n",
    "\n",
    "x = []\n",
    "\n",
    "for i in valores:\n",
    "    x.append(diccionario[i])\n",
    "\n",
    "y = conteo_sector\n",
    "\n",
    "#Graficar\n",
    "\n",
    "Graficar2(x, y, 'Nombres de sectores', 'Número de casos', 'Sectores', 'blue')"
   ]
  },
  {
   "cell_type": "markdown",
   "metadata": {},
   "source": [
    "### Conteo de pacientes con diabetes hospitalizados"
   ]
  },
  {
   "cell_type": "code",
   "execution_count": 85,
   "metadata": {},
   "outputs": [
    {
     "name": "stdout",
     "output_type": "stream",
     "text": [
      "Pacientes con diabetes ambulatorios: 63\n",
      "Pacientes con diabetes hospitalizados: 79\n",
      "Pacientes con diabetes no especificados: 0\n"
     ]
    },
    {
     "data": {
      "image/png": "[encoded data removed]",
      "text/plain": [
       "<Figure size 432x288 with 1 Axes>"
      ]
     },
     "metadata": {
      "needs_background": "light"
     },
     "output_type": "display_data"
    }
   ],
   "source": [
    "#Diabetes: 1 == si\n",
    "#Tipo_paciente: 1 == Ambulatorio   \n",
    "#               2 == Hospitalizado \n",
    "#               99 == No especificado\n",
    "\n",
    "pacientes_diabetes = data[data['DIABETES'] == 1] \n",
    "\n",
    "pacientes_Ambu = pacientes_diabetes[pacientes_diabetes['TIPO_PACIENTE'] == 1] \n",
    "pacientes_Hospi = pacientes_diabetes[pacientes_diabetes['TIPO_PACIENTE'] == 2] \n",
    "pacientes_Noespe = pacientes_diabetes[pacientes_diabetes['TIPO_PACIENTE'] == 99] \n",
    "\n",
    "# GRAFICAMOS\n",
    "\n",
    "x = ['Ambulatorio', 'Hospitalizado', 'No especificado']\n",
    "y = [len(pacientes_Ambu.index), len(pacientes_Hospi.index), len(pacientes_Noespe.index)]\n",
    "\n",
    "print(\"Pacientes con diabetes ambulatorios:\", y[0])\n",
    "print(\"Pacientes con diabetes hospitalizados:\", y[1])\n",
    "print(\"Pacientes con diabetes no especificados:\", y[2])\n",
    "\n",
    "Graficar(x, y, 'Tipo_paciente', 'Número de casos', 'Pacientes con diabetes','plum')"
   ]
  },
  {
   "cell_type": "code",
   "execution_count": null,
   "metadata": {},
   "outputs": [],
   "source": []
  }
 ],
 "metadata": {
  "kernelspec": {
   "display_name": "Python 3",
   "language": "python",
   "name": "python3"
  },
  "language_info": {
   "codemirror_mode": {
    "name": "ipython",
    "version": 3
   },
   "file_extension": ".py",
   "mimetype": "text/x-python",
   "name": "python",
   "nbconvert_exporter": "python",
   "pygments_lexer": "ipython3",
   "version": "3.8.3"
  }
 },
 "nbformat": 4,
 "nbformat_minor": 4
}
